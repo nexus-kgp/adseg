{
 "cells": [
  {
   "cell_type": "code",
   "execution_count": 43,
   "metadata": {},
   "outputs": [],
   "source": [
    "import pickle as pc\n",
    "import numpy as np\n",
    "import subprocess"
   ]
  },
  {
   "cell_type": "code",
   "execution_count": 44,
   "metadata": {},
   "outputs": [],
   "source": [
    "list_of_files = subprocess.getoutput(\"ls regions/\")"
   ]
  },
  {
   "cell_type": "code",
   "execution_count": 18,
   "metadata": {
    "scrolled": true
   },
   "outputs": [],
   "source": [
    "list_of_files =  list_of_files.split('\\n')"
   ]
  },
  {
   "cell_type": "code",
   "execution_count": 3,
   "metadata": {},
   "outputs": [],
   "source": [
    "def open_file(path):\n",
    "    \"\"\"\n",
    "        Takes a a text labels path and returns an text file object\n",
    "    \"\"\"\n",
    "    txt = open(path,'r')\n",
    "    y = txt.read()\n",
    "    return y"
   ]
  },
  {
   "cell_type": "code",
   "execution_count": 25,
   "metadata": {},
   "outputs": [],
   "source": [
    "def numpify(txt):\n",
    "    \"\"\"\n",
    "        Takes a text object lable and returns an numpy array of it\n",
    "    \"\"\"\n",
    "    img = []\n",
    "    l = txt.split('\\n')\n",
    "    for i in l:\n",
    "        k = i.split(' ')\n",
    "        temp = []\n",
    "        for j in k:\n",
    "            temp.append(j)\n",
    "        if temp != ['']:\n",
    "            img.append(temp)\n",
    "#     print(len(img))\n",
    "#     print(len(img[0]))\n",
    "    return np.array(img,dtype='uint8')"
   ]
  },
  {
   "cell_type": "code",
   "execution_count": 26,
   "metadata": {},
   "outputs": [],
   "source": [
    "def one_hot_encodify(labels_mat):\n",
    "    \"\"\"\n",
    "        Takes an 240*320 numpy array of labels and returns an one hot encoding array of dimension 8*240*320\n",
    "    \"\"\"\n",
    "    cl = np.zeros((8,240,320))\n",
    "    classes = [i for i in range(8)]\n",
    "    for i in classes:\n",
    "        h = np.reshape(labels_mat,(240*320))\n",
    "        p = np.zeros((240*320))\n",
    "        for j in range(len(h)):\n",
    "            if h[j] == i:\n",
    "                  p[j] = 1\n",
    "        cl[i] = np.reshape(p,(240,320))\n",
    "    return cl"
   ]
  },
  {
   "cell_type": "code",
   "execution_count": 7,
   "metadata": {},
   "outputs": [],
   "source": [
    "y=open_file(\"./regions/0000047.regions.txt\")"
   ]
  },
  {
   "cell_type": "code",
   "execution_count": 9,
   "metadata": {},
   "outputs": [
    {
     "name": "stdout",
     "output_type": "stream",
     "text": [
      "240\n",
      "320\n"
     ]
    },
    {
     "data": {
      "text/plain": [
       "(8, 240, 320)"
      ]
     },
     "execution_count": 9,
     "metadata": {},
     "output_type": "execute_result"
    }
   ],
   "source": [
    "one_hot_encodify(numpify(y)).shape"
   ]
  },
  {
   "cell_type": "code",
   "execution_count": 27,
   "metadata": {},
   "outputs": [],
   "source": [
    "one_hot_encodings = []"
   ]
  },
  {
   "cell_type": "code",
   "execution_count": 28,
   "metadata": {},
   "outputs": [],
   "source": [
    "not_processed=[]"
   ]
  },
  {
   "cell_type": "code",
   "execution_count": 29,
   "metadata": {
    "scrolled": true
   },
   "outputs": [
    {
     "name": "stdout",
     "output_type": "stream",
     "text": [
      "0000382.regions.txt\n",
      "0000631.regions.txt\n",
      "0000697.regions.txt\n",
      "0000759.regions.txt\n",
      "0000794.regions.txt\n",
      "0003178.regions.txt\n",
      "0003423.regions.txt\n",
      "0003463.regions.txt\n",
      "0003957.regions.txt\n",
      "0004774.regions.txt\n",
      "0007323.regions.txt\n",
      "0007545.regions.txt\n",
      "0009212.regions.txt\n",
      "0011003.regions.txt\n",
      "0100026.regions.txt\n",
      "0100061.regions.txt\n",
      "0100113.regions.txt\n",
      "0100132.regions.txt\n",
      "0100477.regions.txt\n",
      "0100579.regions.txt\n",
      "0100628.regions.txt\n",
      "0100787.regions.txt\n",
      "0100822.regions.txt\n",
      "0101060.regions.txt\n",
      "0101434.regions.txt\n",
      "0101488.regions.txt\n",
      "0101492.regions.txt\n",
      "0102039.regions.txt\n",
      "0102534.regions.txt\n",
      "0103344.regions.txt\n",
      "0104194.regions.txt\n",
      "0104439.regions.txt\n",
      "0104958.regions.txt\n",
      "0105146.regions.txt\n",
      "1000061.regions.txt\n",
      "1001195.regions.txt\n",
      "1001252.regions.txt\n",
      "1001685.regions.txt\n",
      "1001688.regions.txt\n",
      "1001770.regions.txt\n",
      "1001875.regions.txt\n",
      "1100001.regions.txt\n",
      "1100003.regions.txt\n",
      "1100004.regions.txt\n",
      "1100005.regions.txt\n",
      "1100006.regions.txt\n",
      "1100011.regions.txt\n",
      "1100014.regions.txt\n",
      "1100025.regions.txt\n",
      "1100027.regions.txt\n",
      "1100029.regions.txt\n",
      "1100030.regions.txt\n",
      "1100031.regions.txt\n",
      "2000001.regions.txt\n",
      "2000004.regions.txt\n",
      "2000008.regions.txt\n",
      "2000019.regions.txt\n",
      "2000025.regions.txt\n",
      "2000028.regions.txt\n",
      "2000033.regions.txt\n",
      "2000037.regions.txt\n",
      "2000041.regions.txt\n",
      "2000044.regions.txt\n",
      "3000676.regions.txt\n",
      "3000716.regions.txt\n",
      "3000759.regions.txt\n",
      "3000945.regions.txt\n",
      "3001018.regions.txt\n",
      "3001061.regions.txt\n",
      "3001131.regions.txt\n",
      "3001336.regions.txt\n",
      "3001555.regions.txt\n",
      "3001751.regions.txt\n",
      "3001976.regions.txt\n",
      "3002020.regions.txt\n",
      "3002059.regions.txt\n",
      "3002082.regions.txt\n",
      "3002221.regions.txt\n",
      "3002411.regions.txt\n",
      "3002905.regions.txt\n",
      "3003322.regions.txt\n",
      "3003328.regions.txt\n",
      "3003817.regions.txt\n",
      "5000016.regions.txt\n",
      "5000119.regions.txt\n",
      "5000120.regions.txt\n",
      "5000121.regions.txt\n",
      "5000122.regions.txt\n",
      "5000123.regions.txt\n",
      "5000124.regions.txt\n",
      "5000125.regions.txt\n",
      "5000126.regions.txt\n",
      "5000127.regions.txt\n",
      "5000129.regions.txt\n",
      "5000130.regions.txt\n",
      "5000131.regions.txt\n",
      "5000132.regions.txt\n",
      "5000133.regions.txt\n",
      "5000137.regions.txt\n",
      "5000147.regions.txt\n",
      "5000149.regions.txt\n",
      "5000175.regions.txt\n",
      "5000176.regions.txt\n",
      "5000180.regions.txt\n",
      "5000181.regions.txt\n",
      "5000182.regions.txt\n",
      "5000183.regions.txt\n",
      "5000184.regions.txt\n",
      "5000188.regions.txt\n",
      "5000190.regions.txt\n",
      "5000191.regions.txt\n",
      "5000192.regions.txt\n",
      "5000194.regions.txt\n",
      "5000195.regions.txt\n",
      "5000196.regions.txt\n",
      "5000197.regions.txt\n",
      "5000198.regions.txt\n",
      "5000199.regions.txt\n",
      "5000200.regions.txt\n",
      "5000201.regions.txt\n",
      "5000202.regions.txt\n",
      "5000203.regions.txt\n",
      "5000204.regions.txt\n",
      "5000205.regions.txt\n",
      "5000226.regions.txt\n",
      "5000234.regions.txt\n",
      "5000257.regions.txt\n",
      "5000264.regions.txt\n",
      "5000265.regions.txt\n",
      "6000054.regions.txt\n",
      "6000068.regions.txt\n",
      "6000318.regions.txt\n",
      "8002764.regions.txt\n",
      "8003131.regions.txt\n",
      "8003952.regions.txt\n",
      "8004573.regions.txt\n",
      "8005616.regions.txt\n",
      "8008099.regions.txt\n",
      "8008998.regions.txt\n",
      "9000001.regions.txt\n",
      "9000003.regions.txt\n",
      "9000210.regions.txt\n",
      "9001034.regions.txt\n",
      "9001071.regions.txt\n",
      "9002004.regions.txt\n",
      "9002827.regions.txt\n",
      "9003234.regions.txt\n",
      "9003250.regions.txt\n",
      "9003378.regions.txt\n",
      "9003585.regions.txt\n",
      "9004766.regions.txt\n",
      "9004879.regions.txt\n",
      "9004965.regions.txt\n",
      "9005105.regions.txt\n",
      "9005273.regions.txt\n"
     ]
    }
   ],
   "source": [
    "for file in list_of_files:\n",
    "    try:\n",
    "        one_hot_encodings.append(one_hot_encodify(numpify(open_file(\"./regions/\" + file))))\n",
    "    except ValueError:\n",
    "        print(file)\n",
    "        not_processed.append(file)"
   ]
  },
  {
   "cell_type": "code",
   "execution_count": 45,
   "metadata": {},
   "outputs": [
    {
     "data": {
      "text/plain": [
       "155"
      ]
     },
     "execution_count": 45,
     "metadata": {},
     "output_type": "execute_result"
    }
   ],
   "source": [
    "len(not_processed)"
   ]
  },
  {
   "cell_type": "code",
   "execution_count": 32,
   "metadata": {},
   "outputs": [],
   "source": [
    "processed_files = [i for i in list_of_files if i not in not_processed]"
   ]
  },
  {
   "cell_type": "code",
   "execution_count": 40,
   "metadata": {},
   "outputs": [],
   "source": [
    "with open('processed_files.pkl','wb') as f:\n",
    "    pc.dump(processed_files,f)"
   ]
  },
  {
   "cell_type": "code",
   "execution_count": 41,
   "metadata": {},
   "outputs": [],
   "source": [
    "with open('1_hot_encodings_processed.pkl','wb') as f:\n",
    "    pc.dump(one_hot_encodings,f)"
   ]
  },
  {
   "cell_type": "code",
   "execution_count": 46,
   "metadata": {},
   "outputs": [],
   "source": [
    "u = np.array(one_hot_encodings)"
   ]
  },
  {
   "cell_type": "code",
   "execution_count": 48,
   "metadata": {},
   "outputs": [],
   "source": [
    "np.save(open(\"test\",'wb'),u)"
   ]
  }
 ],
 "metadata": {
  "kernelspec": {
   "display_name": "Python 3",
   "language": "python",
   "name": "python3"
  },
  "language_info": {
   "codemirror_mode": {
    "name": "ipython",
    "version": 3
   },
   "file_extension": ".py",
   "mimetype": "text/x-python",
   "name": "python",
   "nbconvert_exporter": "python",
   "pygments_lexer": "ipython3",
   "version": "3.5.2"
  }
 },
 "nbformat": 4,
 "nbformat_minor": 2
}
